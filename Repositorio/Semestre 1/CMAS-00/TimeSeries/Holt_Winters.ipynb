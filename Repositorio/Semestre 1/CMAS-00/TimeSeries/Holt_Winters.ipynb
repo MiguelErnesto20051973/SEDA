{
  "nbformat": 4,
  "nbformat_minor": 0,
  "metadata": {
    "colab": {
      "name": "Holt-Winters.ipynb",
      "provenance": [],
      "collapsed_sections": []
    },
    "kernelspec": {
      "name": "python3",
      "display_name": "Python 3"
    },
    "language_info": {
      "name": "python"
    }
  },
  "cells": [
    {
      "cell_type": "code",
      "execution_count": null,
      "metadata": {
        "id": "pMuRqgmWXqMy"
      },
      "outputs": [],
      "source": [
        "import pandas as pd \n",
        "import matplotlib.pyplot as plt\n",
        "from statsmodels.tsa.api import ExponentialSmoothing, SimpleExpSmoothing, Holt\n",
        "from google.colab import drive\n",
        "drive.mount('/content/drive')"
      ]
    },
    {
      "cell_type": "code",
      "source": [
        "df = pd.read_csv(\"/content/drive/My Drive/TimeSeries/data_series.csv\",nrows=11856)  \n",
        "df.head()"
      ],
      "metadata": {
        "id": "AioZJMHJbpMA"
      },
      "execution_count": null,
      "outputs": []
    },
    {
      "cell_type": "code",
      "source": [
        "df.tail()"
      ],
      "metadata": {
        "id": "sVSSTrfVdLhS"
      },
      "execution_count": null,
      "outputs": []
    },
    {
      "cell_type": "code",
      "source": [
        "train=df[0:10392]\n",
        "train.head()"
      ],
      "metadata": {
        "id": "3UghipemdVrH"
      },
      "execution_count": null,
      "outputs": []
    },
    {
      "cell_type": "code",
      "source": [
        "test=df[10392:] \n",
        "test.head()"
      ],
      "metadata": {
        "id": "WcmECbTydmfr"
      },
      "execution_count": null,
      "outputs": []
    },
    {
      "cell_type": "code",
      "source": [
        "df.Timestamp = pd.to_datetime(df.Datatime,format='%d/%m/%Y %H:%M') \n",
        "df.index = df.Timestamp\n",
        "df = df.resample('D').mean()\n",
        "df.head()"
      ],
      "metadata": {
        "id": "ZRqP7iyreXjP"
      },
      "execution_count": null,
      "outputs": []
    },
    {
      "cell_type": "code",
      "source": [
        "train.Timestamp = pd.to_datetime(train.Datatime,format='%d/%m/%Y %H:%M')\n",
        "train.index = train.Timestamp\n",
        "train = train.resample('D').mean()\n",
        "train.head()"
      ],
      "metadata": {
        "id": "0QcsyRf3dXoB"
      },
      "execution_count": null,
      "outputs": []
    },
    {
      "cell_type": "code",
      "source": [
        "test.Timestamp = pd.to_datetime(test.Datatime,format='%d/%m/%Y %H:%M') \n",
        "test.index = test.Timestamp\n",
        "test = test.resample('D').mean()\n",
        "test.head()"
      ],
      "metadata": {
        "id": "0Qcn3gPcdvY6"
      },
      "execution_count": null,
      "outputs": []
    },
    {
      "cell_type": "code",
      "source": [
        "train.Count.plot(figsize=(15,8), title= 'Daily Ridership', fontsize=14)\n",
        "plt.show()"
      ],
      "metadata": {
        "id": "8wHDsJMAequf"
      },
      "execution_count": null,
      "outputs": []
    },
    {
      "cell_type": "code",
      "source": [
        "test.Count.plot(figsize=(15,8), title= 'Daily Ridership', fontsize=14)\n",
        "plt.show()"
      ],
      "metadata": {
        "id": "7qtUb_HafcPL"
      },
      "execution_count": null,
      "outputs": []
    },
    {
      "cell_type": "code",
      "source": [
        "y_hat_avg = test.copy() \n",
        "filt = ExponentialSmoothing(np.asarry[train['Count']), seasonal_periods=7 , trend='add', seasonal='add',).filt()\n",
        "y_hat_avg['Holt_Winter'] = fil.forecast(len(test))\n",
        "y_hat_avg.head()"
      ],
      "metadata": {
        "id": "U6EICnDygNSe"
      },
      "execution_count": null,
      "outputs": []
    },
    {
      "cell_type": "code",
      "source": [
        "plt.figure(figsize=(16,8))\n",
        "plt.plot( train['Count'], color='red', label='Train')\n",
        "plt.plot( test['Count'], color='Orange', label='Test')\n",
        "plt.plot(y_hat_avg['Holt_Winter'], color='black', label='Holt_Winter')\n",
        "plt.legend(loc='best')\n",
        "plt.show()"
      ],
      "metadata": {
        "id": "RXgBYRQQknd8"
      },
      "execution_count": null,
      "outputs": []
    },
    {
      "cell_type": "code",
      "source": [
        "from sklearn.metrics import mean_squared_error\n",
        "from math import sqrt\n",
        "rms = sqrt(mean_squared_error(test.Count, y_hat_avg.Holt_Winter))\n",
        "print(rms)"
      ],
      "metadata": {
        "id": "OsUrAW6Nnkuk"
      },
      "execution_count": null,
      "outputs": []
    }
  ]
}